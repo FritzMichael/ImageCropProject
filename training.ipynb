{
 "cells": [
  {
   "cell_type": "code",
   "execution_count": 1,
   "metadata": {},
   "outputs": [],
   "source": [
    "import numpy as np\n",
    "import matplotlib.pyplot as plt\n",
    "import torch\n",
    "from torch.utils.data import DataLoader\n",
    "from datasets import ImageDataSet, CroppedOutImageDataSet\n",
    "from architectures import SimpleCNN\n",
    "import gc"
   ]
  },
  {
   "cell_type": "code",
   "execution_count": 2,
   "metadata": {},
   "outputs": [],
   "source": [
    "target_device = torch.device(r'cuda' if torch.cuda.is_available() else r'cpu')"
   ]
  },
  {
   "cell_type": "code",
   "execution_count": 3,
   "metadata": {
    "tags": []
   },
   "outputs": [
    {
     "output_type": "stream",
     "name": "stdout",
     "text": "cuda\n"
    }
   ],
   "source": [
    "model = SimpleCNN(n_in_channels=4, n_hidden_layers = 1)\n",
    "model.to(target_device)\n",
    "print(target_device)"
   ]
  },
  {
   "cell_type": "code",
   "execution_count": 4,
   "metadata": {},
   "outputs": [],
   "source": [
    "# Creating Dataset\n",
    "root_dir = 'data'\n",
    "dataset = CroppedOutImageDataSet(ImageDataSet(root_dir))\n",
    "\n",
    "# Splitting dataset into train and test sets\n",
    "trainSet, testSet = torch.utils.data.random_split(dataset, [int(len(dataset)*(4/5)), len(dataset) - int(len(dataset)*(4/5))])\n",
    "\n",
    "# Creating Dataloaders\n",
    "trainloader = DataLoader(dataset,batch_size=1,shuffle=True, num_workers = 0)"
   ]
  },
  {
   "cell_type": "code",
   "execution_count": 5,
   "metadata": {
    "tags": []
   },
   "outputs": [
    {
     "output_type": "stream",
     "name": "stdout",
     "text": "torch.Size([4, 3120, 4160])\ntorch.Size([1, 4, 3120, 4160])\n"
    }
   ],
   "source": [
    "inputs, targets, ids = dataset.__getitem__(19061)\n",
    "print(inputs.size())\n",
    "inputs = inputs.unsqueeze(0)\n",
    "print(inputs.size())\n",
    "targets = targets.unsqueeze(0)"
   ]
  },
  {
   "cell_type": "code",
   "execution_count": 6,
   "metadata": {},
   "outputs": [],
   "source": [
    "\n",
    "inputs = inputs.to(target_device)\n",
    "targets = targets.to(target_device)\n"
   ]
  },
  {
   "cell_type": "code",
   "execution_count": 7,
   "metadata": {},
   "outputs": [],
   "source": [
    "optimizer = torch.optim.Adam(model.parameters(), lr=1e-3)\n",
    "mse = torch.nn.MSELoss()"
   ]
  },
  {
   "cell_type": "code",
   "execution_count": 8,
   "metadata": {},
   "outputs": [],
   "source": [
    "optimizer.zero_grad()\n",
    "outputs = model(inputs)"
   ]
  },
  {
   "cell_type": "code",
   "execution_count": 9,
   "metadata": {},
   "outputs": [
    {
     "output_type": "error",
     "ename": "RuntimeError",
     "evalue": "CUDA out of memory. Tried to allocate 1.55 GiB (GPU 0; 5.93 GiB total capacity; 3.53 GiB already allocated; 319.44 MiB free; 3.56 GiB reserved in total by PyTorch) (malloc at /opt/conda/conda-bld/pytorch_1587428266983/work/c10/cuda/CUDACachingAllocator.cpp:289)\nframe #0: c10::Error::Error(c10::SourceLocation, std::string const&) + 0x4e (0x7fbf6876cb5e in /home/michael/anaconda3/lib/python3.7/site-packages/torch/lib/libc10.so)\nframe #1: <unknown function> + 0x1f39d (0x7fbf6852e39d in /home/michael/anaconda3/lib/python3.7/site-packages/torch/lib/libc10_cuda.so)\nframe #2: <unknown function> + 0x2058e (0x7fbf6852f58e in /home/michael/anaconda3/lib/python3.7/site-packages/torch/lib/libc10_cuda.so)\nframe #3: at::native::empty_cuda(c10::ArrayRef<long>, c10::TensorOptions const&, c10::optional<c10::MemoryFormat>) + 0x291 (0x7fbf6b4b5741 in /home/michael/anaconda3/lib/python3.7/site-packages/torch/lib/libtorch_cuda.so)\nframe #4: <unknown function> + 0xdccb8b (0x7fbf69765b8b in /home/michael/anaconda3/lib/python3.7/site-packages/torch/lib/libtorch_cuda.so)\nframe #5: <unknown function> + 0xe16477 (0x7fbf697af477 in /home/michael/anaconda3/lib/python3.7/site-packages/torch/lib/libtorch_cuda.so)\nframe #6: <unknown function> + 0xdd3999 (0x7fbf94331999 in /home/michael/anaconda3/lib/python3.7/site-packages/torch/lib/libtorch_cpu.so)\nframe #7: <unknown function> + 0xdd3cd7 (0x7fbf94331cd7 in /home/michael/anaconda3/lib/python3.7/site-packages/torch/lib/libtorch_cpu.so)\nframe #8: <unknown function> + 0xd67a9e (0x7fbf69700a9e in /home/michael/anaconda3/lib/python3.7/site-packages/torch/lib/libtorch_cuda.so)\nframe #9: <unknown function> + 0xd6a563 (0x7fbf69703563 in /home/michael/anaconda3/lib/python3.7/site-packages/torch/lib/libtorch_cuda.so)\nframe #10: at::native::cudnn_convolution_backward_input(c10::ArrayRef<long>, at::Tensor const&, at::Tensor const&, c10::ArrayRef<long>, c10::ArrayRef<long>, c10::ArrayRef<long>, long, bool, bool) + 0xb2 (0x7fbf69703da2 in /home/michael/anaconda3/lib/python3.7/site-packages/torch/lib/libtorch_cuda.so)\nframe #11: <unknown function> + 0xdd18c0 (0x7fbf6976a8c0 in /home/michael/anaconda3/lib/python3.7/site-packages/torch/lib/libtorch_cuda.so)\nframe #12: <unknown function> + 0xe16158 (0x7fbf697af158 in /home/michael/anaconda3/lib/python3.7/site-packages/torch/lib/libtorch_cuda.so)\nframe #13: at::native::cudnn_convolution_backward(at::Tensor const&, at::Tensor const&, at::Tensor const&, c10::ArrayRef<long>, c10::ArrayRef<long>, c10::ArrayRef<long>, long, bool, bool, std::array<bool, 2ul>) + 0x4fa (0x7fbf6970543a in /home/michael/anaconda3/lib/python3.7/site-packages/torch/lib/libtorch_cuda.so)\nframe #14: <unknown function> + 0xdd1beb (0x7fbf6976abeb in /home/michael/anaconda3/lib/python3.7/site-packages/torch/lib/libtorch_cuda.so)\nframe #15: <unknown function> + 0xe161b4 (0x7fbf697af1b4 in /home/michael/anaconda3/lib/python3.7/site-packages/torch/lib/libtorch_cuda.so)\nframe #16: <unknown function> + 0x29defc6 (0x7fbf95f3cfc6 in /home/michael/anaconda3/lib/python3.7/site-packages/torch/lib/libtorch_cpu.so)\nframe #17: <unknown function> + 0x2a2ea54 (0x7fbf95f8ca54 in /home/michael/anaconda3/lib/python3.7/site-packages/torch/lib/libtorch_cpu.so)\nframe #18: torch::autograd::generated::CudnnConvolutionBackward::apply(std::vector<at::Tensor, std::allocator<at::Tensor> >&&) + 0x378 (0x7fbf95b54f28 in /home/michael/anaconda3/lib/python3.7/site-packages/torch/lib/libtorch_cpu.so)\nframe #19: <unknown function> + 0x2ae8215 (0x7fbf96046215 in /home/michael/anaconda3/lib/python3.7/site-packages/torch/lib/libtorch_cpu.so)\nframe #20: torch::autograd::Engine::evaluate_function(std::shared_ptr<torch::autograd::GraphTask>&, torch::autograd::Node*, torch::autograd::InputBuffer&) + 0x16f3 (0x7fbf96043513 in /home/michael/anaconda3/lib/python3.7/site-packages/torch/lib/libtorch_cpu.so)\nframe #21: torch::autograd::Engine::thread_main(std::shared_ptr<torch::autograd::GraphTask> const&, bool) + 0x3d2 (0x7fbf960442f2 in /home/michael/anaconda3/lib/python3.7/site-packages/torch/lib/libtorch_cpu.so)\nframe #22: torch::autograd::Engine::thread_init(int) + 0x39 (0x7fbf9603c969 in /home/michael/anaconda3/lib/python3.7/site-packages/torch/lib/libtorch_cpu.so)\nframe #23: torch::autograd::python::PythonEngine::thread_init(int) + 0x38 (0x7fbf99383558 in /home/michael/anaconda3/lib/python3.7/site-packages/torch/lib/libtorch_python.so)\nframe #24: <unknown function> + 0xc819d (0x7fbfd94a919d in /home/michael/anaconda3/lib/python3.7/site-packages/zmq/backend/cython/../../../../.././libstdc++.so.6)\nframe #25: <unknown function> + 0x9609 (0x7fbfdc281609 in /lib/x86_64-linux-gnu/libpthread.so.0)\nframe #26: clone + 0x43 (0x7fbfdc1a8103 in /lib/x86_64-linux-gnu/libc.so.6)\n",
     "traceback": [
      "\u001b[0;31m---------------------------------------------------------------------------\u001b[0m",
      "\u001b[0;31mRuntimeError\u001b[0m                              Traceback (most recent call last)",
      "\u001b[0;32m<ipython-input-9-6c9ec67e983a>\u001b[0m in \u001b[0;36m<module>\u001b[0;34m\u001b[0m\n\u001b[1;32m      1\u001b[0m \u001b[0;31m# Calculate loss\u001b[0m\u001b[0;34m\u001b[0m\u001b[0;34m\u001b[0m\u001b[0;34m\u001b[0m\u001b[0m\n\u001b[1;32m      2\u001b[0m \u001b[0mloss\u001b[0m \u001b[0;34m=\u001b[0m \u001b[0mmse\u001b[0m\u001b[0;34m(\u001b[0m\u001b[0moutputs\u001b[0m\u001b[0;34m,\u001b[0m \u001b[0mtargets\u001b[0m\u001b[0;34m.\u001b[0m\u001b[0mreshape\u001b[0m\u001b[0;34m(\u001b[0m\u001b[0;34m-\u001b[0m\u001b[0;36m1\u001b[0m\u001b[0;34m,\u001b[0m\u001b[0;34m)\u001b[0m\u001b[0;34m)\u001b[0m\u001b[0;34m\u001b[0m\u001b[0;34m\u001b[0m\u001b[0m\n\u001b[0;32m----> 3\u001b[0;31m \u001b[0mloss\u001b[0m\u001b[0;34m.\u001b[0m\u001b[0mbackward\u001b[0m\u001b[0;34m(\u001b[0m\u001b[0;34m)\u001b[0m\u001b[0;34m\u001b[0m\u001b[0;34m\u001b[0m\u001b[0m\n\u001b[0m\u001b[1;32m      4\u001b[0m \u001b[0moptimizer\u001b[0m\u001b[0;34m.\u001b[0m\u001b[0mstep\u001b[0m\u001b[0;34m(\u001b[0m\u001b[0;34m)\u001b[0m\u001b[0;34m\u001b[0m\u001b[0;34m\u001b[0m\u001b[0m\n",
      "\u001b[0;32m~/anaconda3/lib/python3.7/site-packages/torch/tensor.py\u001b[0m in \u001b[0;36mbackward\u001b[0;34m(self, gradient, retain_graph, create_graph)\u001b[0m\n\u001b[1;32m    196\u001b[0m                 \u001b[0mproducts\u001b[0m\u001b[0;34m.\u001b[0m \u001b[0mDefaults\u001b[0m \u001b[0mto\u001b[0m\u001b[0;31m \u001b[0m\u001b[0;31m`\u001b[0m\u001b[0;31m`\u001b[0m\u001b[0;32mFalse\u001b[0m\u001b[0;31m`\u001b[0m\u001b[0;31m`\u001b[0m\u001b[0;34m.\u001b[0m\u001b[0;34m\u001b[0m\u001b[0;34m\u001b[0m\u001b[0m\n\u001b[1;32m    197\u001b[0m         \"\"\"\n\u001b[0;32m--> 198\u001b[0;31m         \u001b[0mtorch\u001b[0m\u001b[0;34m.\u001b[0m\u001b[0mautograd\u001b[0m\u001b[0;34m.\u001b[0m\u001b[0mbackward\u001b[0m\u001b[0;34m(\u001b[0m\u001b[0mself\u001b[0m\u001b[0;34m,\u001b[0m \u001b[0mgradient\u001b[0m\u001b[0;34m,\u001b[0m \u001b[0mretain_graph\u001b[0m\u001b[0;34m,\u001b[0m \u001b[0mcreate_graph\u001b[0m\u001b[0;34m)\u001b[0m\u001b[0;34m\u001b[0m\u001b[0;34m\u001b[0m\u001b[0m\n\u001b[0m\u001b[1;32m    199\u001b[0m \u001b[0;34m\u001b[0m\u001b[0m\n\u001b[1;32m    200\u001b[0m     \u001b[0;32mdef\u001b[0m \u001b[0mregister_hook\u001b[0m\u001b[0;34m(\u001b[0m\u001b[0mself\u001b[0m\u001b[0;34m,\u001b[0m \u001b[0mhook\u001b[0m\u001b[0;34m)\u001b[0m\u001b[0;34m:\u001b[0m\u001b[0;34m\u001b[0m\u001b[0;34m\u001b[0m\u001b[0m\n",
      "\u001b[0;32m~/anaconda3/lib/python3.7/site-packages/torch/autograd/__init__.py\u001b[0m in \u001b[0;36mbackward\u001b[0;34m(tensors, grad_tensors, retain_graph, create_graph, grad_variables)\u001b[0m\n\u001b[1;32m     98\u001b[0m     Variable._execution_engine.run_backward(\n\u001b[1;32m     99\u001b[0m         \u001b[0mtensors\u001b[0m\u001b[0;34m,\u001b[0m \u001b[0mgrad_tensors\u001b[0m\u001b[0;34m,\u001b[0m \u001b[0mretain_graph\u001b[0m\u001b[0;34m,\u001b[0m \u001b[0mcreate_graph\u001b[0m\u001b[0;34m,\u001b[0m\u001b[0;34m\u001b[0m\u001b[0;34m\u001b[0m\u001b[0m\n\u001b[0;32m--> 100\u001b[0;31m         allow_unreachable=True)  # allow_unreachable flag\n\u001b[0m\u001b[1;32m    101\u001b[0m \u001b[0;34m\u001b[0m\u001b[0m\n\u001b[1;32m    102\u001b[0m \u001b[0;34m\u001b[0m\u001b[0m\n",
      "\u001b[0;31mRuntimeError\u001b[0m: CUDA out of memory. Tried to allocate 1.55 GiB (GPU 0; 5.93 GiB total capacity; 3.53 GiB already allocated; 319.44 MiB free; 3.56 GiB reserved in total by PyTorch) (malloc at /opt/conda/conda-bld/pytorch_1587428266983/work/c10/cuda/CUDACachingAllocator.cpp:289)\nframe #0: c10::Error::Error(c10::SourceLocation, std::string const&) + 0x4e (0x7fbf6876cb5e in /home/michael/anaconda3/lib/python3.7/site-packages/torch/lib/libc10.so)\nframe #1: <unknown function> + 0x1f39d (0x7fbf6852e39d in /home/michael/anaconda3/lib/python3.7/site-packages/torch/lib/libc10_cuda.so)\nframe #2: <unknown function> + 0x2058e (0x7fbf6852f58e in /home/michael/anaconda3/lib/python3.7/site-packages/torch/lib/libc10_cuda.so)\nframe #3: at::native::empty_cuda(c10::ArrayRef<long>, c10::TensorOptions const&, c10::optional<c10::MemoryFormat>) + 0x291 (0x7fbf6b4b5741 in /home/michael/anaconda3/lib/python3.7/site-packages/torch/lib/libtorch_cuda.so)\nframe #4: <unknown function> + 0xdccb8b (0x7fbf69765b8b in /home/michael/anaconda3/lib/python3.7/site-packages/torch/lib/libtorch_cuda.so)\nframe #5: <unknown function> + 0xe16477 (0x7fbf697af477 in /home/michael/anaconda3/lib/python3.7/site-packages/torch/lib/libtorch_cuda.so)\nframe #6: <unknown function> + 0xdd3999 (0x7fbf94331999 in /home/michael/anaconda3/lib/python3.7/site-packages/torch/lib/libtorch_cpu.so)\nframe #7: <unknown function> + 0xdd3cd7 (0x7fbf94331cd7 in /home/michael/anaconda3/lib/python3.7/site-packages/torch/lib/libtorch_cpu.so)\nframe #8: <unknown function> + 0xd67a9e (0x7fbf69700a9e in /home/michael/anaconda3/lib/python3.7/site-packages/torch/lib/libtorch_cuda.so)\nframe #9: <unknown function> + 0xd6a563 (0x7fbf69703563 in /home/michael/anaconda3/lib/python3.7/site-packages/torch/lib/libtorch_cuda.so)\nframe #10: at::native::cudnn_convolution_backward_input(c10::ArrayRef<long>, at::Tensor const&, at::Tensor const&, c10::ArrayRef<long>, c10::ArrayRef<long>, c10::ArrayRef<long>, long, bool, bool) + 0xb2 (0x7fbf69703da2 in /home/michael/anaconda3/lib/python3.7/site-packages/torch/lib/libtorch_cuda.so)\nframe #11: <unknown function> + 0xdd18c0 (0x7fbf6976a8c0 in /home/michael/anaconda3/lib/python3.7/site-packages/torch/lib/libtorch_cuda.so)\nframe #12: <unknown function> + 0xe16158 (0x7fbf697af158 in /home/michael/anaconda3/lib/python3.7/site-packages/torch/lib/libtorch_cuda.so)\nframe #13: at::native::cudnn_convolution_backward(at::Tensor const&, at::Tensor const&, at::Tensor const&, c10::ArrayRef<long>, c10::ArrayRef<long>, c10::ArrayRef<long>, long, bool, bool, std::array<bool, 2ul>) + 0x4fa (0x7fbf6970543a in /home/michael/anaconda3/lib/python3.7/site-packages/torch/lib/libtorch_cuda.so)\nframe #14: <unknown function> + 0xdd1beb (0x7fbf6976abeb in /home/michael/anaconda3/lib/python3.7/site-packages/torch/lib/libtorch_cuda.so)\nframe #15: <unknown function> + 0xe161b4 (0x7fbf697af1b4 in /home/michael/anaconda3/lib/python3.7/site-packages/torch/lib/libtorch_cuda.so)\nframe #16: <unknown function> + 0x29defc6 (0x7fbf95f3cfc6 in /home/michael/anaconda3/lib/python3.7/site-packages/torch/lib/libtorch_cpu.so)\nframe #17: <unknown function> + 0x2a2ea54 (0x7fbf95f8ca54 in /home/michael/anaconda3/lib/python3.7/site-packages/torch/lib/libtorch_cpu.so)\nframe #18: torch::autograd::generated::CudnnConvolutionBackward::apply(std::vector<at::Tensor, std::allocator<at::Tensor> >&&) + 0x378 (0x7fbf95b54f28 in /home/michael/anaconda3/lib/python3.7/site-packages/torch/lib/libtorch_cpu.so)\nframe #19: <unknown function> + 0x2ae8215 (0x7fbf96046215 in /home/michael/anaconda3/lib/python3.7/site-packages/torch/lib/libtorch_cpu.so)\nframe #20: torch::autograd::Engine::evaluate_function(std::shared_ptr<torch::autograd::GraphTask>&, torch::autograd::Node*, torch::autograd::InputBuffer&) + 0x16f3 (0x7fbf96043513 in /home/michael/anaconda3/lib/python3.7/site-packages/torch/lib/libtorch_cpu.so)\nframe #21: torch::autograd::Engine::thread_main(std::shared_ptr<torch::autograd::GraphTask> const&, bool) + 0x3d2 (0x7fbf960442f2 in /home/michael/anaconda3/lib/python3.7/site-packages/torch/lib/libtorch_cpu.so)\nframe #22: torch::autograd::Engine::thread_init(int) + 0x39 (0x7fbf9603c969 in /home/michael/anaconda3/lib/python3.7/site-packages/torch/lib/libtorch_cpu.so)\nframe #23: torch::autograd::python::PythonEngine::thread_init(int) + 0x38 (0x7fbf99383558 in /home/michael/anaconda3/lib/python3.7/site-packages/torch/lib/libtorch_python.so)\nframe #24: <unknown function> + 0xc819d (0x7fbfd94a919d in /home/michael/anaconda3/lib/python3.7/site-packages/zmq/backend/cython/../../../../.././libstdc++.so.6)\nframe #25: <unknown function> + 0x9609 (0x7fbfdc281609 in /lib/x86_64-linux-gnu/libpthread.so.0)\nframe #26: clone + 0x43 (0x7fbfdc1a8103 in /lib/x86_64-linux-gnu/libc.so.6)\n"
     ]
    }
   ],
   "source": [
    "        # Calculate loss\n",
    "loss = mse(outputs, targets.reshape(-1,))\n",
    "loss.backward()\n",
    "optimizer.step()"
   ]
  },
  {
   "cell_type": "code",
   "execution_count": null,
   "metadata": {},
   "outputs": [],
   "source": []
  }
 ],
 "metadata": {
  "language_info": {
   "codemirror_mode": {
    "name": "ipython",
    "version": 3
   },
   "file_extension": ".py",
   "mimetype": "text/x-python",
   "name": "python",
   "nbconvert_exporter": "python",
   "pygments_lexer": "ipython3",
   "version": "3.7.6-final"
  },
  "orig_nbformat": 2,
  "kernelspec": {
   "name": "python3",
   "display_name": "Python 3"
  }
 },
 "nbformat": 4,
 "nbformat_minor": 2
}