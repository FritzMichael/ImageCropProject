{
 "cells": [
  {
   "cell_type": "code",
   "execution_count": 4,
   "metadata": {},
   "outputs": [],
   "source": [
    "import dill as pkl\n",
    "from torch.utils.data import Dataset, DataLoader\n",
    "from datasets import cropImage"
   ]
  },
  {
   "cell_type": "markdown",
   "metadata": {},
   "source": [
    "# Notebook to create predictions for the challenge\n",
    "\n",
    "It uses a pickled testset and an already trained model to make predictions.\n",
    "The predictions are then packaged for submission."
   ]
  },
  {
   "cell_type": "code",
   "execution_count": 3,
   "metadata": {},
   "outputs": [],
   "source": [
    "testSetPath = 'challenge_testset.pkl'\n",
    "with open(testSetPath,'rb') as tsp:\n",
    "    testSet = pkl.load(tsp)"
   ]
  },
  {
   "cell_type": "code",
   "execution_count": 8,
   "metadata": {},
   "outputs": [
    {
     "output_type": "execute_result",
     "data": {
      "text/plain": "dict_keys(['images', 'crop_sizes', 'crop_centers'])"
     },
     "metadata": {},
     "execution_count": 8
    }
   ],
   "source": [
    "testSet.keys()"
   ]
  },
  {
   "cell_type": "code",
   "execution_count": 15,
   "metadata": {},
   "outputs": [
    {
     "output_type": "execute_result",
     "data": {
      "text/plain": "(30, 25)"
     },
     "metadata": {},
     "execution_count": 15
    }
   ],
   "source": [
    "testSet['crop_centers'][0]"
   ]
  },
  {
   "cell_type": "code",
   "execution_count": 20,
   "metadata": {},
   "outputs": [
    {
     "output_type": "execute_result",
     "data": {
      "text/plain": "7"
     },
     "metadata": {},
     "execution_count": 20
    }
   ],
   "source": [
    "int(testSet['crop_sizes'][0][0]/2)"
   ]
  },
  {
   "cell_type": "code",
   "execution_count": 21,
   "metadata": {},
   "outputs": [
    {
     "output_type": "execute_result",
     "data": {
      "text/plain": "23"
     },
     "metadata": {},
     "execution_count": 21
    }
   ],
   "source": [
    "top = testSet['crop_centers'][0][0] - int(testSet['crop_sizes'][0][0]/2)\n",
    "bottom "
   ]
  },
  {
   "cell_type": "code",
   "execution_count": null,
   "metadata": {},
   "outputs": [],
   "source": [
    "class CroppedOutImageDataSet(Dataset):\n",
    "    def __init__(self, pathToPkl):\n",
    "      self.pklPath = pathToPkl\n",
    "      with open(testSetPath,'rb') as tsp:\n",
    "            testSet = pkl.load(tsp)\n",
    "      self.images = testSet['images']\n",
    "      self.crop_sizes = testSet['crop_sizes']\n",
    "      self.crop_centers = testSet['crop_centers'] \n",
    "\n",
    "    def __len__(self):\n",
    "        return len(self.images)\n",
    "\n",
    "    def __getitem__(self, id):\n",
    "        image_data = self.iamges[id]\n",
    "        height, width = image_data.shape\n",
    "\n",
    "        image_data = np.asarray(image_data, dtype=np.float32)\n",
    "        mean = image_data.mean()\n",
    "        std = image_data.std()\n",
    "        image_data[:] -= mean\n",
    "        image_data[:] /= std\n",
    "\n",
    "        # setting some random crops\n",
    "        top = self.crop_centers[id][0] - int(self.crop_sizes[0]/2)\n",
    "        bottom = self.crop_centers[id][0] + int(self.crop_sizes[0]/2)\n",
    "        left = self.crop_centers[id][1] - int(self.crop_sizes[1]/2)\n",
    "        right = self.crop_centers[id][1] + int(self.crop_sizes[1]/2)\n",
    "\n",
    "        cropped_image, crop_array, target_array = cropImage(image_data, top, bottom, left, right)\n",
    "\n",
    "        # constructing the image we want to input to the model\n",
    "        inputs = np.zeros(shape = (*cropped_image.shape, 4), dtype=cropped_image.dtype)\n",
    "        inputs[..., 0] = cropped_image\n",
    "        inputs[..., 1] = crop_array\n",
    "        inputs[..., 2] = np.tile(np.linspace(start=-1, stop=1, num=width),reps=[height,1])\n",
    "        inputs[..., 3] = np.tile(np.expand_dims(np.linspace(start=-1, stop=1, num=height),1),reps=[1,width])\n",
    "\n",
    "        return TF.to_tensor(inputs), TF.to_tensor(target_array), id"
   ]
  }
 ],
 "metadata": {
  "language_info": {
   "codemirror_mode": {
    "name": "ipython",
    "version": 3
   },
   "file_extension": ".py",
   "mimetype": "text/x-python",
   "name": "python",
   "nbconvert_exporter": "python",
   "pygments_lexer": "ipython3",
   "version": "3.7.6-final"
  },
  "orig_nbformat": 2,
  "kernelspec": {
   "name": "python3",
   "display_name": "Python 3"
  }
 },
 "nbformat": 4,
 "nbformat_minor": 2
}